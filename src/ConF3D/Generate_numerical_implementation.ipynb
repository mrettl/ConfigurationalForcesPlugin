{
 "cells": [
  {
   "cell_type": "markdown",
   "metadata": {
    "pycharm": {
     "name": "#%% md\n"
    }
   },
   "source": [
    "# Generation of Numeric Implementations"
   ]
  },
  {
   "cell_type": "code",
   "execution_count": 5,
   "metadata": {
    "pycharm": {
     "name": "#%%\n"
    }
   },
   "outputs": [],
   "source": [
    "import numpy as np\n",
    "import sympy as sy\n",
    "import subprocess\n",
    "import os\n",
    "\n",
    "import Auxiliary_functions as sy_hfkt\n",
    "import ele_def as ele_def"
   ]
  },
  {
   "cell_type": "markdown",
   "metadata": {
    "pycharm": {
     "name": "#%% md\n"
    }
   },
   "source": [
    "## Generate implementation"
   ]
  },
  {
   "cell_type": "code",
   "execution_count": 6,
   "metadata": {
    "pycharm": {
     "name": "#%%\n"
    }
   },
   "outputs": [
    {
     "name": "stdout",
     "output_type": "stream",
     "text": [
      "Implementation for CPE4\n",
      "Implementation for CPE4R\n",
      "Implementation for CPE8\n",
      "Implementation for CPE8R\n",
      "Implementation for CPE3\n",
      "Implementation for CPE6\n",
      "Implementation for C3D6\n",
      "Implementation for C3D8\n",
      "Implementation for C3D8R\n",
      "Implementation for C3D20\n",
      "Implementation for C3D20R\n",
      "Implementation for C3D4\n",
      "Implementation for C3D10\n",
      "Implementation for C3D10R\n"
     ]
    }
   ],
   "source": [
    "# Name of elements for which the implementation should be generated\n",
    "# The properties of this types have to be defined in ele_def.py\n",
    "types=('CPE4','CPE4R','CPE8','CPE8R','CPE3','CPE6','C3D6','C3D8','C3D8R','C3D20','C3D20R','C3D4','C3D10','C3D10R')\n",
    "\n",
    "#Define file where the c- implementations should be stored  \n",
    "f_c_functions=open(\"Conf_Forces.c\",\"w\")\n",
    "#Define path where the Python wrappers should be stored  \n",
    "f_python_functions=open(\"Conf_Forces_py.py\",\"w\")\n",
    "\n",
    "#Write c-headers\n",
    "f_c_functions.write(sy_hfkt.gen_C_header())\n",
    "#Write python-headers\n",
    "f_python_functions.write(sy_hfkt.gen_Python_Wrapper_Header(\"Conf_Forces\"))\n",
    "\n",
    "for i in range(len(types)):\n",
    "    poly_power=ele_def.poly_power[types[i]]\n",
    "    bild_points=ele_def.bild_points[types[i]]\n",
    "    int_points=ele_def.int_points[types[i]]\n",
    "    int_weights=ele_def.int_weights[types[i]]\n",
    "    \n",
    "    #Build Implementation\n",
    "    print(\"Implementation for \"+ types[i])\n",
    "    C_Force_dyn=sy_hfkt.gen_Configurational_Forces_Dynamic(poly_power,bild_points,int_points,int_weights,types[i]+\"_dynamic\")\n",
    "    C_Force_stat_mbf=sy_hfkt.gen_Configurational_Forces_Static(poly_power,bild_points,int_points,int_weights,types[i]+\"_static\",method='mbf')\n",
    "    C_Force_stat_dbf=sy_hfkt.gen_Configurational_Forces_Static(poly_power,bild_points,int_points,int_weights,types[i]+\"_static\",method='dbf')\n",
    "    \n",
    "    #Write C-Implementation\n",
    "    f_c_functions.write(C_Force_dyn)\n",
    "    f_c_functions.write(C_Force_stat_mbf)\n",
    "    f_c_functions.write(C_Force_stat_dbf)\n",
    "    \n",
    "    #Write Python wrapper\n",
    "    f_python_functions.write(sy_hfkt.gen_Python_Wrapper_static(types[i]+\"_static\",bild_points.shape[0],int_points.shape[0]))\n",
    "    f_python_functions.write(sy_hfkt.gen_Python_Wrapper_dynamic(types[i]+\"_dynamic\",bild_points.shape[0],int_points.shape[0]))\n",
    "    \n",
    "f_c_functions.close()\n",
    "f_python_functions.close()"
   ]
  },
  {
   "cell_type": "markdown",
   "metadata": {
    "pycharm": {
     "name": "#%%\n"
    }
   },
   "source": [
    "## Generate implementation\n",
    "\n",
    "It is recommended to use clang for compilation.\n",
    "\n",
    "For a optimized build on a specific cpu use \"-march=native\"."
   ]
  },
  {
   "cell_type": "code",
   "execution_count": 8,
   "metadata": {},
   "outputs": [],
   "source": [
    "if os.name == 'nt':\n",
    "    # Windows\n",
    "    subprocess.call(\"clang -shared -O3 -ffast-math -o Conf_Forces.dll Conf_Forces.c\")\n",
    "else:\n",
    "    # Unix based operating systems\n",
    "    subprocess.call(\"clang -shared -O3 -ffast-math -fPIC -o  Conf_Forces.so Conf_Forces.c\")"
   ]
  },
  {
   "cell_type": "code",
   "execution_count": null,
   "metadata": {
    "pycharm": {
     "name": "#%%\n"
    }
   },
   "outputs": [],
   "source": []
  },
  {
   "cell_type": "code",
   "execution_count": null,
   "metadata": {},
   "outputs": [],
   "source": []
  },
  {
   "cell_type": "code",
   "execution_count": null,
   "metadata": {},
   "outputs": [],
   "source": []
  },
  {
   "cell_type": "code",
   "execution_count": null,
   "metadata": {},
   "outputs": [],
   "source": []
  }
 ],
 "metadata": {
  "kernelspec": {
   "display_name": "Python 3",
   "language": "python",
   "name": "python3"
  },
  "language_info": {
   "codemirror_mode": {
    "name": "ipython",
    "version": 3
   },
   "file_extension": ".py",
   "mimetype": "text/x-python",
   "name": "python",
   "nbconvert_exporter": "python",
   "pygments_lexer": "ipython3",
   "version": "3.7.6"
  }
 },
 "nbformat": 4,
 "nbformat_minor": 4
}
